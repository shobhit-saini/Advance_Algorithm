{
  "nbformat": 4,
  "nbformat_minor": 0,
  "metadata": {
    "colab": {
      "name": "Vectorized_version_VS_non_vectorized_version.ipynb",
      "provenance": [],
      "authorship_tag": "ABX9TyP0M65TOt/v3Lf5H1vab4Os",
      "include_colab_link": true
    },
    "kernelspec": {
      "name": "python3",
      "display_name": "Python 3"
    }
  },
  "cells": [
    {
      "cell_type": "markdown",
      "metadata": {
        "id": "view-in-github",
        "colab_type": "text"
      },
      "source": [
        "<a href=\"https://colab.research.google.com/github/shobhit-saini/Advance_Algorithm/blob/master/Learning_Try_outs/Vectorized_version_VS_non_vectorized_version.ipynb\" target=\"_parent\"><img src=\"https://colab.research.google.com/assets/colab-badge.svg\" alt=\"Open In Colab\"/></a>"
      ]
    },
    {
      "cell_type": "code",
      "metadata": {
        "id": "W2hoUDu0H17e",
        "colab_type": "code",
        "colab": {
          "base_uri": "https://localhost:8080/",
          "height": 85
        },
        "outputId": "0b2c51c5-7944-4b00-dd09-7a99c4c7ba16"
      },
      "source": [
        "import time\n",
        "\n",
        "a = np.random.rand(1000000)\n",
        "b = np.random.rand(1000000)\n",
        "tic = time.time()\n",
        "pro = np.dot(a,b)\n",
        "toc = time.time()\n",
        "t1 = str(1000*(toc-tic))\n",
        "print(\"Vectorized Version\"+ t1 +\"ms\")\n",
        "\n",
        "pro = 0\n",
        "tic = time.time()\n",
        "for i in range(1000000):\n",
        "  pro += a[i]*b[i]\n",
        "toc = time.time()\n",
        "t2 = str(1000*(toc-tic))\n",
        "print(\"For loop Version\"+ t2+\"ms\")\n",
        "change = (float(t2)/float(t1))\n",
        "print(\"Vectorized version is \" + str(change) + \"times faster than for loop\")\n",
        "print(\"Speedup = \"+ str(change))"
      ],
      "execution_count": 25,
      "outputs": [
        {
          "output_type": "stream",
          "text": [
            "Vectorized Version1.3477802276611328ms\n",
            "For loop Version630.5148601531982ms\n",
            "Vectorized version is 467.81726516893684times faster than for loop\n",
            "Speedup = 467.81726516893684\n"
          ],
          "name": "stdout"
        }
      ]
    }
  ]
}